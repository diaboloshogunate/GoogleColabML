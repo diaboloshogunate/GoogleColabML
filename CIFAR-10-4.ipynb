{
  "nbformat": 4,
  "nbformat_minor": 0,
  "metadata": {
    "colab": {
      "name": "Untitled1.ipynb",
      "provenance": [],
      "authorship_tag": "ABX9TyNRE/91GoD+MT1mRsqheJE5",
      "include_colab_link": true
    },
    "kernelspec": {
      "name": "python3",
      "display_name": "Python 3"
    },
    "language_info": {
      "name": "python"
    },
    "accelerator": "GPU"
  },
  "cells": [
    {
      "cell_type": "markdown",
      "metadata": {
        "id": "view-in-github",
        "colab_type": "text"
      },
      "source": [
        "<a href=\"https://colab.research.google.com/github/diaboloshogunate/GoogleColabML/blob/main/CIFAR-10-4.ipynb\" target=\"_parent\"><img src=\"https://colab.research.google.com/assets/colab-badge.svg\" alt=\"Open In Colab\"/></a>"
      ]
    },
    {
      "cell_type": "code",
      "source": [
        "from tensorflow import keras\n",
        "from keras import models\n",
        "from keras import layers\n",
        "from keras import utils\n",
        "from tensorflow.keras.optimizers import SGD\n",
        "\n",
        "opt = SGD(learning_rate=0.1, momentum=0)\n",
        "model = keras.Sequential()\n",
        "\n",
        "model.add(layers.Conv2D(filters=16, kernel_size=(3,3), activation=\"tanh\", padding=\"valid\", input_shape=(32,32,3)))\n",
        "model.add(layers.Conv2D(filters=32, kernel_size=(3,3), activation=\"tanh\", padding=\"valid\", strides=(3,3)))\n",
        "model.add(layers.MaxPooling2D(pool_size=(2,2), strides=(1,1)))\n",
        "model.add(layers.Conv2D(filters=64, kernel_size=(3,3), activation=\"tanh\", padding=\"valid\", strides=(1,1)))\n",
        "\n",
        "\n",
        "model.add(layers.Flatten())\n",
        "model.add(layers.Dense(units=120, activation=\"tanh\"))\n",
        "model.add(layers.Dense(units=84, activation=\"tanh\"))\n",
        "model.add(layers.Dense(units=10, activation = 'softmax'))\n",
        "model.compile(optimizer=opt, loss=\"categorical_crossentropy\", metrics=['accuracy'])\n",
        "model.summary()"
      ],
      "metadata": {
        "id": "77yH3MUewcP2",
        "outputId": "e86dca46-537c-4ab0-f225-c946ce583b17",
        "colab": {
          "base_uri": "https://localhost:8080/"
        }
      },
      "execution_count": 16,
      "outputs": [
        {
          "output_type": "stream",
          "name": "stdout",
          "text": [
            "Model: \"sequential_11\"\n",
            "_________________________________________________________________\n",
            " Layer (type)                Output Shape              Param #   \n",
            "=================================================================\n",
            " conv2d_32 (Conv2D)          (None, 30, 30, 16)        448       \n",
            "                                                                 \n",
            " conv2d_33 (Conv2D)          (None, 10, 10, 32)        4640      \n",
            "                                                                 \n",
            " max_pooling2d_6 (MaxPooling  (None, 9, 9, 32)         0         \n",
            " 2D)                                                             \n",
            "                                                                 \n",
            " conv2d_34 (Conv2D)          (None, 7, 7, 64)          18496     \n",
            "                                                                 \n",
            " flatten_10 (Flatten)        (None, 3136)              0         \n",
            "                                                                 \n",
            " dense_28 (Dense)            (None, 120)               376440    \n",
            "                                                                 \n",
            " dense_29 (Dense)            (None, 84)                10164     \n",
            "                                                                 \n",
            " dense_30 (Dense)            (None, 10)                850       \n",
            "                                                                 \n",
            "=================================================================\n",
            "Total params: 411,038\n",
            "Trainable params: 411,038\n",
            "Non-trainable params: 0\n",
            "_________________________________________________________________\n"
          ]
        }
      ]
    }
  ]
}