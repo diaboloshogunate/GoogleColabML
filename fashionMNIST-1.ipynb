{
  "nbformat": 4,
  "nbformat_minor": 0,
  "metadata": {
    "colab": {
      "name": "Untitled0.ipynb",
      "provenance": [],
      "collapsed_sections": [],
      "authorship_tag": "ABX9TyPiRVM9FJilrW6dSPe6VDhY",
      "include_colab_link": true
    },
    "kernelspec": {
      "name": "python3",
      "display_name": "Python 3"
    },
    "language_info": {
      "name": "python"
    },
    "accelerator": "GPU"
  },
  "cells": [
    {
      "cell_type": "markdown",
      "metadata": {
        "id": "view-in-github",
        "colab_type": "text"
      },
      "source": [
        "<a href=\"https://colab.research.google.com/github/diaboloshogunate/GoogleColabML/blob/main/fashionMNIST-1.ipynb\" target=\"_parent\"><img src=\"https://colab.research.google.com/assets/colab-badge.svg\" alt=\"Open In Colab\"/></a>"
      ]
    },
    {
      "cell_type": "code",
      "execution_count": null,
      "metadata": {
        "id": "5G7ZTwesYf4p"
      },
      "outputs": [],
      "source": [
        "# Imports\n",
        "import sys\n",
        "import torch\n",
        "from torch import nn\n",
        "import torchvision\n",
        "from torchvision.transforms import ToTensor"
      ]
    },
    {
      "cell_type": "code",
      "source": [
        "# Enable GPU if avialable\n",
        "device = \"cuda\" if torch.cuda.is_available() else \"cpu\"\n",
        "print(f\"Using {device} device\")"
      ],
      "metadata": {
        "colab": {
          "base_uri": "https://localhost:8080/"
        },
        "id": "JqschsvYcko7",
        "outputId": "c5eab958-86c2-4d8d-f5b6-8b5f05040278"
      },
      "execution_count": null,
      "outputs": [
        {
          "output_type": "stream",
          "name": "stdout",
          "text": [
            "Using cuda device\n"
          ]
        }
      ]
    },
    {
      "cell_type": "code",
      "source": [
        "# Define model\n",
        "class NeuralNetwork(nn.Module):\n",
        "    def __init__(self, stack):\n",
        "        super(NeuralNetwork, self).__init__()\n",
        "        self.flatten = nn.Flatten()\n",
        "        self.linear_relu_stack = stack\n",
        "\n",
        "    def forward(self, x):\n",
        "        x = self.flatten(x)\n",
        "        logits = self.linear_relu_stack(x)\n",
        "        return logits"
      ],
      "metadata": {
        "id": "gx_riMXQdl1S"
      },
      "execution_count": null,
      "outputs": []
    },
    {
      "cell_type": "code",
      "source": [
        "# Define train/test\n",
        "def train(dataloader, model, loss_fn, optimizer):\n",
        "    size = len(dataloader.dataset)\n",
        "    model.train()\n",
        "    for batch, (X, y) in enumerate(dataloader):\n",
        "        X, y = X.to(device), y.to(device)\n",
        "\n",
        "        # Compute prediction error\n",
        "        pred = model(X)\n",
        "        loss = loss_fn(pred, y)\n",
        "\n",
        "        # Backpropagation\n",
        "        optimizer.zero_grad()\n",
        "        loss.backward()\n",
        "        optimizer.step()\n",
        "\n",
        "        if batch % 100 == 0:\n",
        "            loss, current = loss.item(), batch * len(X)\n",
        "            print(f\"loss: {loss:>7f}  [{current:>5d}/{size:>5d}]\")\n",
        "\n",
        "def test(dataloader, model, loss_fn):\n",
        "    size = len(dataloader.dataset)\n",
        "    num_batches = len(dataloader)\n",
        "    model.eval()\n",
        "    test_loss, correct = 0, 0\n",
        "    with torch.no_grad():\n",
        "        for X, y in dataloader:\n",
        "            X, y = X.to(device), y.to(device)\n",
        "            pred = model(X)\n",
        "            test_loss += loss_fn(pred, y).item()\n",
        "            correct += (pred.argmax(1) == y).type(torch.float).sum().item()\n",
        "    test_loss /= num_batches\n",
        "    correct /= size\n",
        "    print(f\"Test Error: \\n Accuracy: {(100*correct):>0.1f}%, Avg loss: {test_loss:>8f} \\n\")"
      ],
      "metadata": {
        "id": "-vydS_HwnztM"
      },
      "execution_count": null,
      "outputs": []
    },
    {
      "cell_type": "code",
      "source": [
        "# parameters\n",
        "momentum = 0\n",
        "loss_fn = nn.CrossEntropyLoss()\n",
        "batch_size = 30\n",
        "learning_rate = 0.001\n",
        "epochs = 2\n",
        "layers = [nn.Linear(28*28, 1024), nn.ReLU(), nn.Linear(1024, 10)]"
      ],
      "metadata": {
        "id": "TXU6WZ0unORB"
      },
      "execution_count": null,
      "outputs": []
    },
    {
      "cell_type": "code",
      "source": [
        "# datasets\n",
        "trainset = torchvision.datasets.FashionMNIST('./data', download=True, train=True, transform=ToTensor())\n",
        "testset = torchvision.datasets.FashionMNIST('./data', download=True, train=False, transform=ToTensor())"
      ],
      "metadata": {
        "id": "O7iU8YplZuH1"
      },
      "execution_count": null,
      "outputs": []
    },
    {
      "cell_type": "code",
      "source": [
        "# data loaders\n",
        "trainloader = torch.utils.data.DataLoader(trainset, batch_size=batch_size, shuffle=True, num_workers=2)\n",
        "testloader = torch.utils.data.DataLoader(testset, batch_size=batch_size, shuffle=False, num_workers=2)"
      ],
      "metadata": {
        "id": "1AbeSX1RbQ3B"
      },
      "execution_count": null,
      "outputs": []
    },
    {
      "cell_type": "code",
      "source": [
        "# model\n",
        "model = NeuralNetwork(nn.Sequential(*layers)).to(device)\n",
        "optimizer = torch.optim.SGD(model.parameters(), lr=learning_rate, momentum=momentum)\n",
        "\n",
        "print(model)"
      ],
      "metadata": {
        "colab": {
          "base_uri": "https://localhost:8080/"
        },
        "id": "ODYp2hTPfJ6B",
        "outputId": "aeabdcbd-fb4f-4c38-bd68-5e4d352a8c11"
      },
      "execution_count": null,
      "outputs": [
        {
          "output_type": "stream",
          "name": "stdout",
          "text": [
            "NeuralNetwork(\n",
            "  (flatten): Flatten(start_dim=1, end_dim=-1)\n",
            "  (linear_relu_stack): Sequential(\n",
            "    (0): Linear(in_features=784, out_features=1024, bias=True)\n",
            "    (1): ReLU()\n",
            "    (2): Linear(in_features=1024, out_features=10, bias=True)\n",
            "  )\n",
            ")\n"
          ]
        }
      ]
    },
    {
      "cell_type": "code",
      "source": [
        "for t in range(epochs):\n",
        "    print(f\"Epoch {t+1}\\n-------------------------------\")\n",
        "    train(trainloader, model, loss_fn, optimizer)\n",
        "    test(testloader, model, loss_fn)"
      ],
      "metadata": {
        "colab": {
          "base_uri": "https://localhost:8080/"
        },
        "id": "7_br2KyroVoc",
        "outputId": "c3034323-3f3e-4877-b0f9-825e56bda9f7"
      },
      "execution_count": null,
      "outputs": [
        {
          "output_type": "stream",
          "name": "stdout",
          "text": [
            "Epoch 1\n",
            "-------------------------------\n",
            "loss: 2.320202  [    0/60000]\n",
            "loss: 2.220774  [ 3000/60000]\n",
            "loss: 2.170064  [ 6000/60000]\n",
            "loss: 2.059722  [ 9000/60000]\n",
            "loss: 1.922381  [12000/60000]\n",
            "loss: 1.970676  [15000/60000]\n",
            "loss: 1.903179  [18000/60000]\n",
            "loss: 1.936288  [21000/60000]\n",
            "loss: 1.695264  [24000/60000]\n",
            "loss: 1.727793  [27000/60000]\n",
            "loss: 1.596017  [30000/60000]\n",
            "loss: 1.512745  [33000/60000]\n",
            "loss: 1.671964  [36000/60000]\n",
            "loss: 1.540066  [39000/60000]\n",
            "loss: 1.522604  [42000/60000]\n",
            "loss: 1.394728  [45000/60000]\n",
            "loss: 1.432420  [48000/60000]\n",
            "loss: 1.359246  [51000/60000]\n",
            "loss: 1.091484  [54000/60000]\n",
            "loss: 1.138226  [57000/60000]\n",
            "Test Error: \n",
            " Accuracy: 65.2%, Avg loss: 1.237380 \n",
            "\n",
            "Epoch 2\n",
            "-------------------------------\n",
            "loss: 1.146760  [    0/60000]\n",
            "loss: 1.179499  [ 3000/60000]\n",
            "loss: 1.146505  [ 6000/60000]\n",
            "loss: 1.182852  [ 9000/60000]\n",
            "loss: 1.177042  [12000/60000]\n",
            "loss: 1.028485  [15000/60000]\n",
            "loss: 1.147798  [18000/60000]\n",
            "loss: 0.985244  [21000/60000]\n",
            "loss: 1.302856  [24000/60000]\n",
            "loss: 1.044454  [27000/60000]\n",
            "loss: 1.087302  [30000/60000]\n",
            "loss: 0.841460  [33000/60000]\n",
            "loss: 0.984294  [36000/60000]\n",
            "loss: 0.957973  [39000/60000]\n",
            "loss: 1.012299  [42000/60000]\n",
            "loss: 0.810063  [45000/60000]\n",
            "loss: 0.889801  [48000/60000]\n",
            "loss: 0.799585  [51000/60000]\n",
            "loss: 0.859945  [54000/60000]\n",
            "loss: 0.893494  [57000/60000]\n",
            "Test Error: \n",
            " Accuracy: 68.4%, Avg loss: 0.931275 \n",
            "\n"
          ]
        }
      ]
    }
  ]
}