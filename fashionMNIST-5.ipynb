{
  "nbformat": 4,
  "nbformat_minor": 0,
  "metadata": {
    "colab": {
      "name": "Untitled0.ipynb",
      "provenance": [],
      "collapsed_sections": [],
      "authorship_tag": "ABX9TyP3WtsxrSTab9z+p0KOQNOB",
      "include_colab_link": true
    },
    "kernelspec": {
      "name": "python3",
      "display_name": "Python 3"
    },
    "language_info": {
      "name": "python"
    },
    "accelerator": "GPU"
  },
  "cells": [
    {
      "cell_type": "markdown",
      "metadata": {
        "id": "view-in-github",
        "colab_type": "text"
      },
      "source": [
        "<a href=\"https://colab.research.google.com/github/diaboloshogunate/GoogleColabML/blob/main/fashionMNIST-5.ipynb\" target=\"_parent\"><img src=\"https://colab.research.google.com/assets/colab-badge.svg\" alt=\"Open In Colab\"/></a>"
      ]
    },
    {
      "cell_type": "code",
      "execution_count": 8,
      "metadata": {
        "id": "5G7ZTwesYf4p"
      },
      "outputs": [],
      "source": [
        "# Imports\n",
        "import sys\n",
        "import torch\n",
        "from torch import nn\n",
        "import torchvision\n",
        "from torchvision.transforms import ToTensor\n",
        "import numpy as np\n",
        "import random\n",
        "import matplotlib.pyplot as plt\n",
        "%matplotlib inline "
      ]
    },
    {
      "cell_type": "code",
      "source": [
        "# Enable GPU if avialable\n",
        "device = \"cuda\" if torch.cuda.is_available() else \"cpu\"\n",
        "print(f\"Using {device} device\")"
      ],
      "metadata": {
        "colab": {
          "base_uri": "https://localhost:8080/"
        },
        "id": "JqschsvYcko7",
        "outputId": "9a99979e-887a-4b42-e6b3-eae6a96d5481"
      },
      "execution_count": 9,
      "outputs": [
        {
          "output_type": "stream",
          "name": "stdout",
          "text": [
            "Using cuda device\n"
          ]
        }
      ]
    },
    {
      "cell_type": "code",
      "source": [
        "# Define model\n",
        "class NeuralNetwork(nn.Module):\n",
        "    def __init__(self, stack):\n",
        "        super(NeuralNetwork, self).__init__()\n",
        "        self.flatten = nn.Flatten()\n",
        "        self.linear_relu_stack = stack\n",
        "\n",
        "    def forward(self, x):\n",
        "        x = self.flatten(x)\n",
        "        logits = self.linear_relu_stack(x)\n",
        "        return logits"
      ],
      "metadata": {
        "id": "gx_riMXQdl1S"
      },
      "execution_count": 10,
      "outputs": []
    },
    {
      "cell_type": "code",
      "source": [
        "# Define train/test\n",
        "def train(dataloader, model, loss_fn, optimizer):\n",
        "    size = len(dataloader.dataset)\n",
        "    model.train()\n",
        "    for batch, (X, y) in enumerate(dataloader):\n",
        "        X, y = X.to(device), y.to(device)\n",
        "\n",
        "        # Compute prediction error\n",
        "        pred = model(X)\n",
        "        loss = loss_fn(pred, y)\n",
        "\n",
        "        # Backpropagation\n",
        "        optimizer.zero_grad()\n",
        "        loss.backward()\n",
        "        optimizer.step()\n",
        "\n",
        "def test(dataloader, model, loss_fn):\n",
        "    size = len(dataloader.dataset)\n",
        "    num_batches = len(dataloader)\n",
        "    model.eval()\n",
        "    test_loss, correct = 0, 0\n",
        "    with torch.no_grad():\n",
        "        for X, y in dataloader:\n",
        "            X, y = X.to(device), y.to(device)\n",
        "            pred = model(X)\n",
        "            test_loss += loss_fn(pred, y).item()\n",
        "            correct += (pred.argmax(1) == y).type(torch.float).sum().item()\n",
        "    test_loss /= num_batches\n",
        "    correct /= size\n",
        "    print(f\"Test Error: \\n Accuracy: {(100*correct):>0.1f}%, Avg loss: {test_loss:>8f} \\n\")"
      ],
      "metadata": {
        "id": "-vydS_HwnztM"
      },
      "execution_count": 11,
      "outputs": []
    },
    {
      "cell_type": "code",
      "source": [
        "# datasets\n",
        "trainset = torchvision.datasets.FashionMNIST('./data', download=True, train=True, transform=ToTensor())\n",
        "testset = torchvision.datasets.FashionMNIST('./data', download=True, train=False, transform=ToTensor())"
      ],
      "metadata": {
        "id": "O7iU8YplZuH1"
      },
      "execution_count": 12,
      "outputs": []
    },
    {
      "cell_type": "code",
      "source": [
        "# parameters\n",
        "epochs = 2\n",
        "batch_size = 10\n",
        "learning_rate = 0.1\n",
        "activation = nn.ReLU()\n",
        "loss_fn = nn.CrossEntropyLoss()\n",
        "layers = [nn.Linear(28*28, 1024), activation, nn.Linear(1024, 1024), activation, nn.Linear(1024, 10)]\n",
        "\n",
        "# data loaders\n",
        "trainloader = torch.utils.data.DataLoader(trainset, batch_size=batch_size, shuffle=True, num_workers=2)\n",
        "testloader = torch.utils.data.DataLoader(testset, batch_size=batch_size, shuffle=False, num_workers=2)"
      ],
      "metadata": {
        "id": "TXU6WZ0unORB"
      },
      "execution_count": 13,
      "outputs": []
    },
    {
      "cell_type": "code",
      "source": [
        "# model\n",
        "model = NeuralNetwork(nn.Sequential(*layers)).to(device)\n",
        "optimizer = torch.optim.SGD(model.parameters(), lr=learning_rate, momentum=0)\n",
        "\n",
        "print(f\"Batch: {batch_size}, Learning Rate: {learning_rate}, Activation: {activation}\\n\")\n",
        "\n",
        "# epics\n",
        "for epoch in range(epochs):\n",
        "    print(f\"Epoch {epoch+1}\\n-------------------------------\")\n",
        "    train(trainloader, model, loss_fn, optimizer)\n",
        "    test(testloader, model, loss_fn)"
      ],
      "metadata": {
        "colab": {
          "base_uri": "https://localhost:8080/"
        },
        "id": "xCFMx8yI3dto",
        "outputId": "72f99873-2220-4a86-8e5a-642486ea645f"
      },
      "execution_count": 14,
      "outputs": [
        {
          "output_type": "stream",
          "name": "stdout",
          "text": [
            "Batch: 10, Learning Rate: 0.1, Activation: ReLU()\n",
            "\n",
            "Epoch 1\n",
            "-------------------------------\n",
            "Test Error: \n",
            " Accuracy: 84.4%, Avg loss: 0.417993 \n",
            "\n",
            "Epoch 2\n",
            "-------------------------------\n",
            "Test Error: \n",
            " Accuracy: 85.5%, Avg loss: 0.395471 \n",
            "\n"
          ]
        }
      ]
    },
    {
      "cell_type": "code",
      "source": [
        "# show roll result\n",
        "plt.figure()\n",
        "plt.imshow(np.squeeze(torch.roll(trainset[0][0], shifts=(0,0,2), dims=(0,1,2)).numpy()))\n",
        "plt.colorbar()\n",
        "plt.show()"
      ],
      "metadata": {
        "id": "jLqbBrxb_d4Q",
        "outputId": "266104e8-ffd2-4901-e146-fcc3974400bd",
        "colab": {
          "base_uri": "https://localhost:8080/",
          "height": 269
        }
      },
      "execution_count": 24,
      "outputs": [
        {
          "output_type": "display_data",
          "data": {
            "image/png": "[encoded data removed]",
            "text/plain": [
              "<Figure size 432x288 with 2 Axes>"
            ]
          },
          "metadata": {
            "needs_background": "light"
          }
        }
      ]
    },
    {
      "cell_type": "code",
      "source": [
        "def horizontal_shift(pil_image):\n",
        "    tensor = ToTensor()\n",
        "    return torch.roll(tensor(pil_image), shifts=(0,0,2), dims=(0,1,2))\n",
        "\n",
        "def vertical_shift(pil_image):\n",
        "    tensor = ToTensor()\n",
        "    return torch.roll(tensor(pil_image), shifts=(0,2,0), dims=(0,1,2))"
      ],
      "metadata": {
        "id": "VYRTmB5OBPQH"
      },
      "execution_count": 32,
      "outputs": []
    },
    {
      "cell_type": "code",
      "source": [
        "# test with horizontal shift\n",
        "testset = torchvision.datasets.FashionMNIST('./data', download=True, train=False, transform=horizontal_shift)\n",
        "testloader = torch.utils.data.DataLoader(testset, batch_size=batch_size, shuffle=False, num_workers=2)\n",
        "for epoch in range(epochs):\n",
        "    print(f\"Epoch {epoch+1}\\n-------------------------------\")\n",
        "    test(testloader, model, loss_fn)"
      ],
      "metadata": {
        "id": "VMiz8THsA99F",
        "outputId": "84363199-08ec-4aea-9047-301c64eac892",
        "colab": {
          "base_uri": "https://localhost:8080/"
        }
      },
      "execution_count": 31,
      "outputs": [
        {
          "output_type": "stream",
          "name": "stdout",
          "text": [
            "Epoch 1\n",
            "-------------------------------\n",
            "Test Error: \n",
            " Accuracy: 58.1%, Avg loss: 1.212546 \n",
            "\n",
            "Epoch 2\n",
            "-------------------------------\n",
            "Test Error: \n",
            " Accuracy: 58.1%, Avg loss: 1.212546 \n",
            "\n"
          ]
        }
      ]
    },
    {
      "cell_type": "code",
      "source": [
        "# test with vertical shift\n",
        "testset = torchvision.datasets.FashionMNIST('./data', download=True, train=False, transform=vertical_shift)\n",
        "testloader = torch.utils.data.DataLoader(testset, batch_size=batch_size, shuffle=False, num_workers=2)\n",
        "for epoch in range(epochs):\n",
        "    print(f\"Epoch {epoch+1}\\n-------------------------------\")\n",
        "    test(testloader, model, loss_fn)"
      ],
      "metadata": {
        "id": "5DyECGFUCiTW",
        "outputId": "fcf7b9fb-784f-4230-c613-bee2f0ce4604",
        "colab": {
          "base_uri": "https://localhost:8080/"
        }
      },
      "execution_count": 33,
      "outputs": [
        {
          "output_type": "stream",
          "name": "stdout",
          "text": [
            "Epoch 1\n",
            "-------------------------------\n",
            "Test Error: \n",
            " Accuracy: 74.1%, Avg loss: 0.820813 \n",
            "\n",
            "Epoch 2\n",
            "-------------------------------\n",
            "Test Error: \n",
            " Accuracy: 74.1%, Avg loss: 0.820813 \n",
            "\n"
          ]
        }
      ]
    }
  ]
}